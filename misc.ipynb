{
 "cells": [
  {
   "cell_type": "code",
   "execution_count": null,
   "metadata": {
    "vscode": {
     "languageId": "plaintext"
    }
   },
   "outputs": [],
   "source": [
    "import onnx_tf\n",
    "\n",
    "model = torch.load(model_path, weights_only=False)\n",
    "input_shape = (20, 450, 450)\n",
    "torch.onnx.export(model, torch.randn(input_shape), \"model.onnx\", opset_version=11)\n",
    "\n",
    "onnx_model = onnx.load(\"model.onnx\")\n",
    "tf_model = onnx_tf.backend_prepare(onnx_model)\n"
   ]
  }
 ],
 "metadata": {
  "language_info": {
   "name": "python"
  }
 },
 "nbformat": 4,
 "nbformat_minor": 2
}
